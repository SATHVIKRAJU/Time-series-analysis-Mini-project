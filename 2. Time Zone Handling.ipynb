{
 "cells": [
  {
   "cell_type": "code",
   "execution_count": 1,
   "metadata": {
    "collapsed": true
   },
   "outputs": [],
   "source": [
    "import numpy as np\n",
    "import pandas as pd"
   ]
  },
  {
   "cell_type": "code",
   "execution_count": 2,
   "metadata": {
    "collapsed": true
   },
   "outputs": [],
   "source": [
    "rng = pd.date_range('3/6/2012 00:00', periods = 15, freq = 'D')\n",
    "rng.tz"
   ]
  },
  {
   "cell_type": "code",
   "execution_count": 3,
   "metadata": {
    "collapsed": false
   },
   "outputs": [
    {
     "data": {
      "text/plain": [
       "<DstTzInfo 'Europe/London' LMT-1 day, 23:59:00 STD>"
      ]
     },
     "execution_count": 3,
     "metadata": {},
     "output_type": "execute_result"
    }
   ],
   "source": [
    "rng_tz = pd.date_range('3/6/2012 00:00', periods = 15, freq = 'D', tz = 'Europe/London')\n",
    "rng_tz.tz"
   ]
  },
  {
   "cell_type": "code",
   "execution_count": 4,
   "metadata": {
    "collapsed": false
   },
   "outputs": [
    {
     "name": "stdout",
     "output_type": "stream",
     "text": [
      "439\n",
      "592\n",
      "{'CET', 'Etc/GMT+10', 'Etc/GMT-13', 'Canada/East-Saskatchewan', 'Etc/GMT+0', 'W-SU', 'GMT+0', 'Australia/West', 'MST7MDT', 'Chile/EasterIsland', 'Etc/GMT+2', 'Australia/NSW', 'Europe/Tiraspol', 'Mexico/BajaNorte', 'Israel', 'Asia/Kashgar', 'Asia/Ulan_Bator', 'Eire', 'America/Porto_Acre', 'Asia/Ashkhabad', 'America/Mendoza', 'Etc/UTC', 'America/Cordoba', 'Brazil/DeNoronha', 'Asia/Saigon', 'Canada/Yukon', 'Etc/GMT+5', 'Australia/South', 'Africa/Asmera', 'Universal', 'Iran', 'Pacific/Yap', 'Etc/Zulu', 'America/Coral_Harbour', 'Navajo', 'Etc/GMT-10', 'Brazil/East', 'GB', 'Asia/Thimbu', 'Australia/Victoria', 'Poland', 'Chile/Continental', 'US/Indiana-Starke', 'Etc/Universal', 'Atlantic/Jan_Mayen', 'Asia/Harbin', 'Europe/Nicosia', 'America/Montreal', 'America/Virgin', 'America/Jujuy', 'Asia/Chungking', 'Portugal', 'Etc/GMT-0', 'America/Buenos_Aires', 'GB-Eire', 'Europe/Belfast', 'Pacific/Samoa', 'Etc/GMT-9', 'Asia/Calcutta', 'Mexico/General', 'HST', 'Antarctica/South_Pole', 'ROK', 'Australia/Yancowinna', 'CST6CDT', 'PRC', 'Asia/Chongqing', 'Etc/GMT+9', 'Asia/Rangoon', 'America/Argentina/ComodRivadavia', 'ROC', 'NZ-CHAT', 'Etc/GMT-7', 'PST8PDT', 'MST', 'Etc/UCT', 'MET', 'US/Michigan', 'America/Ensenada', 'Etc/GMT-3', 'Africa/Timbuktu', 'America/Rosario', 'Asia/Ujung_Pandang', 'Etc/GMT+3', 'Etc/GMT', 'America/Santa_Isabel', 'America/Knox_IN', 'America/Shiprock', 'Etc/GMT0', 'Singapore', 'UCT', 'Iceland', 'Cuba', 'Etc/GMT-1', 'Etc/GMT-11', 'US/Samoa', 'Brazil/Acre', 'Australia/North', 'Pacific/Ponape', 'Etc/Greenwich', 'Turkey', 'Jamaica', 'Asia/Katmandu', 'EST', 'GMT-0', 'EST5EDT', 'Etc/GMT+7', 'US/Pacific-New', 'Australia/Canberra', 'Greenwich', 'Atlantic/Faeroe', 'Zulu', 'WET', 'America/Indianapolis', 'Asia/Dacca', 'Pacific/Truk', 'Etc/GMT+1', 'Asia/Istanbul', 'Etc/GMT-12', 'Asia/Macao', 'Etc/GMT+12', 'Kwajalein', 'Australia/LHI', 'America/Atka', 'Egypt', 'Etc/GMT-4', 'Etc/GMT-8', 'Etc/GMT-6', 'Australia/ACT', 'Asia/Tel_Aviv', 'America/Fort_Wayne', 'GMT0', 'EET', 'Etc/GMT-14', 'America/Catamarca', 'Etc/GMT+4', 'NZ', 'Etc/GMT-2', 'Etc/GMT-5', 'US/Aleutian', 'Etc/GMT+11', 'Canada/Saskatchewan', 'Australia/Queensland', 'Australia/Tasmania', 'US/East-Indiana', 'Etc/GMT+6', 'Brazil/West', 'Hongkong', 'Libya', 'America/Louisville', 'Etc/GMT+8', 'Mexico/BajaSur', 'Japan'}\n"
     ]
    }
   ],
   "source": [
    "from pytz import common_timezones, all_timezones\n",
    "print(len(common_timezones))\n",
    "print(len(all_timezones))\n",
    "print(set(all_timezones) - set(common_timezones))"
   ]
  },
  {
   "cell_type": "code",
   "execution_count": 5,
   "metadata": {
    "collapsed": false
   },
   "outputs": [
    {
     "data": {
      "text/plain": [
       "Timestamp('2016-07-10 08:50:00')"
      ]
     },
     "execution_count": 5,
     "metadata": {},
     "output_type": "execute_result"
    }
   ],
   "source": [
    "# You can also localize a naive timestamp\n",
    "t_naive = pd.Timestamp('2016-07-10 08:50')\n",
    "t_naive"
   ]
  },
  {
   "cell_type": "code",
   "execution_count": 6,
   "metadata": {
    "collapsed": false
   },
   "outputs": [
    {
     "data": {
      "text/plain": [
       "Timestamp('2016-07-10 08:50:00-0500', tz='US/Central')"
      ]
     },
     "execution_count": 6,
     "metadata": {},
     "output_type": "execute_result"
    }
   ],
   "source": [
    "t = t_naive.tz_localize(tz = 'US/Central')\n",
    "t"
   ]
  },
  {
   "cell_type": "code",
   "execution_count": 7,
   "metadata": {
    "collapsed": false
   },
   "outputs": [
    {
     "data": {
      "text/plain": [
       "Timestamp('2016-07-10 22:50:00+0900', tz='Asia/Tokyo')"
      ]
     },
     "execution_count": 7,
     "metadata": {},
     "output_type": "execute_result"
    }
   ],
   "source": [
    "t.tz_convert('Asia/Tokyo')"
   ]
  },
  {
   "cell_type": "code",
   "execution_count": 14,
   "metadata": {
    "collapsed": false
   },
   "outputs": [
    {
     "data": {
      "text/plain": [
       "2016-03-10 00:00:00-06:00    0\n",
       "2016-03-11 00:00:00-06:00    1\n",
       "2016-03-12 00:00:00-06:00    2\n",
       "2016-03-13 00:00:00-06:00    3\n",
       "2016-03-14 00:00:00-05:00    4\n",
       "2016-03-15 00:00:00-05:00    5\n",
       "2016-03-16 00:00:00-05:00    6\n",
       "2016-03-17 00:00:00-05:00    7\n",
       "2016-03-18 00:00:00-05:00    8\n",
       "2016-03-19 00:00:00-05:00    9\n",
       "Freq: D, dtype: int32"
      ]
     },
     "execution_count": 14,
     "metadata": {},
     "output_type": "execute_result"
    }
   ],
   "source": [
    "# how to handle daylight savings?\n",
    "rng = pd.date_range('2016-03-10', periods=10, tz='US/Central')\n",
    "ts = pd.Series(range(10), index=rng)\n",
    "ts"
   ]
  },
  {
   "cell_type": "code",
   "execution_count": 13,
   "metadata": {
    "collapsed": false
   },
   "outputs": [
    {
     "data": {
      "text/plain": [
       "2016-03-10 00:00:00+00:00    0\n",
       "2016-03-11 00:00:00+00:00    1\n",
       "2016-03-12 00:00:00+00:00    2\n",
       "2016-03-13 00:00:00+00:00    3\n",
       "2016-03-14 00:00:00+00:00    4\n",
       "2016-03-15 00:00:00+00:00    5\n",
       "2016-03-16 00:00:00+00:00    6\n",
       "2016-03-17 00:00:00+00:00    7\n",
       "2016-03-18 00:00:00+00:00    8\n",
       "2016-03-19 00:00:00+00:00    9\n",
       "Freq: D, dtype: int32"
      ]
     },
     "execution_count": 13,
     "metadata": {},
     "output_type": "execute_result"
    }
   ],
   "source": [
    "rng = pd.date_range('2016-03-10', periods=10, tz='utc')\n",
    "ts = pd.Series(range(10), index=rng)\n",
    "ts"
   ]
  },
  {
   "cell_type": "code",
   "execution_count": 15,
   "metadata": {
    "collapsed": false
   },
   "outputs": [
    {
     "data": {
      "text/plain": [
       "2016-03-10 00:00:00-06:00    0\n",
       "2016-03-11 00:00:00-06:00    1\n",
       "2016-03-12 00:00:00-06:00    2\n",
       "2016-03-13 00:00:00-06:00    3\n",
       "2016-03-14 00:00:00-05:00    4\n",
       "2016-03-15 00:00:00-05:00    5\n",
       "2016-03-16 00:00:00-05:00    6\n",
       "2016-03-17 00:00:00-05:00    7\n",
       "2016-03-18 00:00:00-05:00    8\n",
       "2016-03-19 00:00:00-05:00    9\n",
       "Freq: D, dtype: int32"
      ]
     },
     "execution_count": 15,
     "metadata": {},
     "output_type": "execute_result"
    }
   ],
   "source": [
    "ts.tz_convert('US/Central')"
   ]
  },
  {
   "cell_type": "code",
   "execution_count": 16,
   "metadata": {
    "collapsed": false
   },
   "outputs": [
    {
     "data": {
      "text/plain": [
       "DatetimeIndex(['2016-03-12 22:00:00-05:00', '2016-03-12 23:00:00-05:00',\n",
       "               '2016-03-13 00:00:00-05:00', '2016-03-13 01:00:00-05:00',\n",
       "               '2016-03-13 03:00:00-04:00', '2016-03-13 04:00:00-04:00',\n",
       "               '2016-03-13 05:00:00-04:00', '2016-03-13 06:00:00-04:00',\n",
       "               '2016-03-13 07:00:00-04:00', '2016-03-13 08:00:00-04:00',\n",
       "               '2016-03-13 09:00:00-04:00', '2016-03-13 10:00:00-04:00'],\n",
       "              dtype='datetime64[ns, US/Eastern]', freq='H')"
      ]
     },
     "execution_count": 16,
     "metadata": {},
     "output_type": "execute_result"
    }
   ],
   "source": [
    "pd.date_range('03-12-2016 22:00', periods = 12, freq = 'H', tz = 'US/Eastern')"
   ]
  },
  {
   "cell_type": "code",
   "execution_count": 17,
   "metadata": {
    "collapsed": false
   },
   "outputs": [
    {
     "data": {
      "text/plain": [
       "Timestamp('2016-03-13 03:00:00-0400', tz='US/Eastern')"
      ]
     },
     "execution_count": 17,
     "metadata": {},
     "output_type": "execute_result"
    }
   ],
   "source": [
    "# May autocorrect an error rather than giving you a non-existent time error\n",
    "pd.Timestamp('2016-03-13 02:00', tz = 'US/Eastern')"
   ]
  },
  {
   "cell_type": "code",
   "execution_count": null,
   "metadata": {
    "collapsed": true
   },
   "outputs": [],
   "source": []
  }
 ],
 "metadata": {
  "kernelspec": {
   "display_name": "Python 3",
   "language": "python",
   "name": "python3"
  },
  "language_info": {
   "codemirror_mode": {
    "name": "ipython",
    "version": 3
   },
   "file_extension": ".py",
   "mimetype": "text/x-python",
   "name": "python",
   "nbconvert_exporter": "python",
   "pygments_lexer": "ipython3",
   "version": "3.6.0"
  }
 },
 "nbformat": 4,
 "nbformat_minor": 0
}
